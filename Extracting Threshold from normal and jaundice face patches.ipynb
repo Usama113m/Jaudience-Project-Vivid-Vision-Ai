{
  "nbformat": 4,
  "nbformat_minor": 0,
  "metadata": {
    "colab": {
      "provenance": [],
      "authorship_tag": "ABX9TyN46Pb/w2jRBFf64emsYCfY",
      "include_colab_link": true
    },
    "kernelspec": {
      "name": "python3",
      "display_name": "Python 3"
    },
    "language_info": {
      "name": "python"
    }
  },
  "cells": [
    {
      "cell_type": "markdown",
      "metadata": {
        "id": "view-in-github",
        "colab_type": "text"
      },
      "source": [
        "<a href=\"https://colab.research.google.com/github/Usama113m/Jaudience-Project-Vivid-Vision-Ai/blob/main/Extracting%20Threshold%20from%20normal%20and%20jaundice%20face%20patches.ipynb\" target=\"_parent\"><img src=\"https://colab.research.google.com/assets/colab-badge.svg\" alt=\"Open In Colab\"/></a>"
      ]
    },
    {
      "cell_type": "code",
      "execution_count": 11,
      "metadata": {
        "id": "gsTy9L9W8Po1"
      },
      "outputs": [],
      "source": [
        "import cv2\n",
        "import numpy as np\n",
        "import os\n",
        "from scipy.stats import skew, kurtosis\n",
        "\n"
      ]
    },
    {
      "cell_type": "markdown",
      "source": [
        "Extract statistical features from a given region of interest (ROI)"
      ],
      "metadata": {
        "id": "MkDuJ5lfpeEs"
      }
    },
    {
      "cell_type": "code",
      "source": [
        "\n",
        "def extract_features(roi):\n",
        "    gray = cv2.cvtColor(roi, cv2.COLOR_BGR2GRAY)\n",
        "    pixels = gray.flatten()\n",
        "\n",
        "\n",
        "    mean = np.mean(pixels).astype(float)\n",
        "    std_dev = np.std(pixels).astype(float)\n",
        "    skewness = skew(pixels).astype(float)\n",
        "    kurt = kurtosis(pixels).astype(float)\n",
        "    energy = (np.sum(pixels ** 2) / len(pixels)).astype(float)\n",
        "    entropy = (-np.sum(pixels * np.log2(pixels + 1e-10))).astype(float)\n",
        "\n",
        "    return {\n",
        "        'Mean': mean,\n",
        "        'Standard Deviation': std_dev,\n",
        "        'Skewness': skewness,\n",
        "        'Kurtosis': kurt,\n",
        "        'Energy': energy,\n",
        "        'Entropy': entropy\n",
        "    }\n",
        "\n",
        "\n"
      ],
      "metadata": {
        "id": "xv6nmudS9xm2"
      },
      "execution_count": 12,
      "outputs": []
    },
    {
      "cell_type": "markdown",
      "source": [
        " Process all images in a folder and return the averaged feature values."
      ],
      "metadata": {
        "id": "2TAZnjrypr3O"
      }
    },
    {
      "cell_type": "code",
      "source": [
        "def process_folder(folder_path):\n",
        "\n",
        "    feature_list = []\n",
        "\n",
        "\n",
        "    image_files = [f for f in os.listdir(folder_path) if f.endswith(('.png', '.jpg', '.jpeg'))]\n",
        "\n",
        "    for image_name in image_files:\n",
        "        image_path = os.path.join(folder_path, image_name)\n",
        "        image = cv2.imread(image_path)\n",
        "\n",
        "        if image is None:\n",
        "            print(f\"Error: Could not load {image_name}\")\n",
        "            continue\n",
        "\n",
        "        features = extract_features(image)\n",
        "        feature_list.append(features)\n",
        "\n",
        "\n",
        "    if feature_list:\n",
        "        avg_features = {\n",
        "            key: np.mean([feat[key] for feat in feature_list]) for key in feature_list[0]\n",
        "        }\n",
        "    else:\n",
        "        avg_features = None\n",
        "\n",
        "    return avg_features\n",
        "\n",
        "\n"
      ],
      "metadata": {
        "id": "x83xxeZGpxqF"
      },
      "execution_count": 13,
      "outputs": []
    },
    {
      "cell_type": "code",
      "source": [
        "import matplotlib.pyplot as plt\n",
        "from google.colab import drive\n",
        "from google.colab.patches import cv2_imshow\n",
        "import cv2\n",
        "\n",
        "\n",
        "drive.mount('/content/drive')\n"
      ],
      "metadata": {
        "colab": {
          "base_uri": "https://localhost:8080/"
        },
        "id": "CKJMBWVt9xjD",
        "outputId": "3fd6ccbf-9382-484a-ced3-f4d10e29e597"
      },
      "execution_count": 14,
      "outputs": [
        {
          "output_type": "stream",
          "name": "stdout",
          "text": [
            "Drive already mounted at /content/drive; to attempt to forcibly remount, call drive.mount(\"/content/drive\", force_remount=True).\n"
          ]
        }
      ]
    },
    {
      "cell_type": "code",
      "source": [
        "from google.colab import drive\n",
        "drive.mount('/content/drive')"
      ],
      "metadata": {
        "colab": {
          "base_uri": "https://localhost:8080/"
        },
        "id": "iAteq6kt-YZ2",
        "outputId": "59c19a1f-ada2-4142-c0fe-4a48f1e68b90"
      },
      "execution_count": 15,
      "outputs": [
        {
          "output_type": "stream",
          "name": "stdout",
          "text": [
            "Drive already mounted at /content/drive; to attempt to forcibly remount, call drive.mount(\"/content/drive\", force_remount=True).\n"
          ]
        }
      ]
    },
    {
      "cell_type": "code",
      "source": [
        "def main():\n",
        "    jaundice_folder = \"/content/drive/MyDrive/Patches/jaundiceFace_patches\"\n",
        "    normal_folder = \"/content/drive/MyDrive/Patches/normalFace_patches\"\n",
        "\n",
        "    jaundice_face = process_folder(jaundice_folder)\n",
        "    normal_face = process_folder(normal_folder)\n",
        "\n",
        "    if jaundice_face:\n",
        "        print(\"Averaged Features for Jaundice Faces:\")\n",
        "\n",
        "        for key, value in jaundice_face.items():\n",
        "            print(f\"{key}: {value:.4f}\")\n",
        "    else:\n",
        "        print(\"No valid jaundice face patches found.\")\n",
        "\n",
        "    if normal_face:\n",
        "        print(\"Averaged Features for Normal Faces:\")\n",
        "\n",
        "        for key, value in normal_face.items():\n",
        "            print(f\"{key}: {value:.4f}\")\n",
        "    else:\n",
        "        print(\"No valid normal face patches found.\")\n",
        "\n",
        "if __name__ == \"__main__\":\n",
        "    main()\n"
      ],
      "metadata": {
        "colab": {
          "base_uri": "https://localhost:8080/"
        },
        "id": "PfKzeuiF9xdv",
        "outputId": "33e77bed-b2d1-42e0-8aaf-64652dedb76a"
      },
      "execution_count": 16,
      "outputs": [
        {
          "output_type": "stream",
          "name": "stdout",
          "text": [
            "Averaged Features for Jaundice Faces:\n",
            "Mean: 152.9107\n",
            "Standard Deviation: 24.8952\n",
            "Skewness: -0.9787\n",
            "Kurtosis: 2.3293\n",
            "Energy: 111.5333\n",
            "Entropy: -14349837.1771\n",
            "Averaged Features for Normal Faces:\n",
            "Mean: 171.8721\n",
            "Standard Deviation: 31.6127\n",
            "Skewness: -1.9279\n",
            "Kurtosis: 6.4335\n",
            "Energy: 109.1157\n",
            "Entropy: -2448430.4245\n"
          ]
        }
      ]
    },
    {
      "cell_type": "code",
      "source": [],
      "metadata": {
        "id": "5Yl5OWat9xNC"
      },
      "execution_count": 16,
      "outputs": []
    }
  ]
}